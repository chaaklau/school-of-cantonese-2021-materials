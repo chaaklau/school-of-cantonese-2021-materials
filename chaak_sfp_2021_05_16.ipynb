{
  "nbformat": 4,
  "nbformat_minor": 0,
  "metadata": {
    "colab": {
      "name": "chaak-sfp-2021-05-16.ipynb",
      "provenance": [],
      "collapsed_sections": []
    },
    "kernelspec": {
      "name": "python3",
      "display_name": "Python 3"
    },
    "language_info": {
      "name": "python"
    }
  },
  "cells": [
    {
      "cell_type": "markdown",
      "metadata": {
        "id": "R7pB6cxgDkup"
      },
      "source": [
        "# Sentence Final Particles\n",
        "\n",
        "The analysis of sentence final particles (SFP) relies heavily on authentic spoken data. This workbook will show you several ways to extract SFP examples using pycantonese, and to calculate statistics for SFP data.\n",
        "\n",
        "## Pre-requisites\n",
        "- Basic Python syntax ([tutorial](https://github.com/jacksonllee/pycantonese/blob/main/docs/tutorials/lee-python-2021-april.ipynb))\n",
        "- Basic pycantonese operations ([this tutorial](https://github.com/jacksonllee/pycantonese/blob/main/docs/tutorials/lee-pycantonese-2021-05-16.ipynb))\n",
        "\n",
        "## Goals\n",
        "By the end of this tutorial, you should be able to:- \n",
        "1. Create a frequent list for Cantonese SFPs\n",
        "1. Draw bar charts showing SFP distribution\n",
        "1. Extract SFP examples using PyCantonese which satisfy certain constraints (e.g. sentence length, not used with other SFPs)\n",
        "\n",
        "With techniques introduced in this tutorial, you can also try work out solutions to other problems."
      ]
    },
    {
      "cell_type": "markdown",
      "metadata": {
        "id": "uMxdkev41llf"
      },
      "source": [
        "## Installation\n",
        "Run the cell below to install pycantonese and seaborn"
      ]
    },
    {
      "cell_type": "code",
      "metadata": {
        "id": "0h2xMwhTEQdm",
        "colab": {
          "base_uri": "https://localhost:8080/"
        },
        "outputId": "1748d285-e4b1-4ebd-ae44-a3d0e16888d2"
      },
      "source": [
        "!pip install pycantonese==3.3.0"
      ],
      "execution_count": 2,
      "outputs": [
        {
          "output_type": "stream",
          "text": [
            "Collecting pycantonese==3.2.4\n",
            "\u001b[?25l  Downloading https://files.pythonhosted.org/packages/28/28/d036b87eb72801e85b8dd237b59a17fdb55043d3551e182c58d542d8b8c8/pycantonese-3.2.4-py3-none-any.whl (3.9MB)\n",
            "\u001b[K     |████████████████████████████████| 3.9MB 3.9MB/s \n",
            "\u001b[?25hCollecting wordseg==0.0.2\n",
            "  Downloading https://files.pythonhosted.org/packages/dd/23/ceeb960b12098d8ca9d9a246f5ac2081b135574f406bf433593b5972f0ec/wordseg-0.0.2-py3-none-any.whl\n",
            "Collecting pylangacq==0.13.*,>=0.13.3\n",
            "\u001b[?25l  Downloading https://files.pythonhosted.org/packages/a3/bf/696bbf6018ec15a418a604348760630480c6762d1541d9f420d683023cac/pylangacq-0.13.3-py3-none-any.whl (67kB)\n",
            "\u001b[K     |████████████████████████████████| 71kB 7.8MB/s \n",
            "\u001b[?25hRequirement already satisfied: python-dateutil<=3.0.0,>=2.0.0 in /usr/local/lib/python3.7/dist-packages (from pylangacq==0.13.*,>=0.13.3->pycantonese==3.2.4) (2.8.1)\n",
            "Requirement already satisfied: requests<=3.0.0,>=2.18.0 in /usr/local/lib/python3.7/dist-packages (from pylangacq==0.13.*,>=0.13.3->pycantonese==3.2.4) (2.23.0)\n",
            "Requirement already satisfied: six>=1.5 in /usr/local/lib/python3.7/dist-packages (from python-dateutil<=3.0.0,>=2.0.0->pylangacq==0.13.*,>=0.13.3->pycantonese==3.2.4) (1.15.0)\n",
            "Requirement already satisfied: urllib3!=1.25.0,!=1.25.1,<1.26,>=1.21.1 in /usr/local/lib/python3.7/dist-packages (from requests<=3.0.0,>=2.18.0->pylangacq==0.13.*,>=0.13.3->pycantonese==3.2.4) (1.24.3)\n",
            "Requirement already satisfied: chardet<4,>=3.0.2 in /usr/local/lib/python3.7/dist-packages (from requests<=3.0.0,>=2.18.0->pylangacq==0.13.*,>=0.13.3->pycantonese==3.2.4) (3.0.4)\n",
            "Requirement already satisfied: idna<3,>=2.5 in /usr/local/lib/python3.7/dist-packages (from requests<=3.0.0,>=2.18.0->pylangacq==0.13.*,>=0.13.3->pycantonese==3.2.4) (2.10)\n",
            "Requirement already satisfied: certifi>=2017.4.17 in /usr/local/lib/python3.7/dist-packages (from requests<=3.0.0,>=2.18.0->pylangacq==0.13.*,>=0.13.3->pycantonese==3.2.4) (2020.12.5)\n",
            "Installing collected packages: wordseg, pylangacq, pycantonese\n",
            "Successfully installed pycantonese-3.2.4 pylangacq-0.13.3 wordseg-0.0.2\n"
          ],
          "name": "stdout"
        }
      ]
    },
    {
      "cell_type": "code",
      "metadata": {
        "id": "R1c4g8ohE0t6",
        "colab": {
          "base_uri": "https://localhost:8080/"
        },
        "outputId": "7664e6c1-d660-480c-9df0-fa0f3aebbc5d"
      },
      "source": [
        "import pycantonese\n",
        "\n",
        "corpus1 = pycantonese.hkcancor()\n",
        "words_by_utterances = corpus1.words(by_utterances=True)\n",
        "words_by_utterances[:2]  # a list of two lists\n"
      ],
      "execution_count": 3,
      "outputs": [
        {
          "output_type": "execute_result",
          "data": {
            "text/plain": [
              "[['喂', '遲', '啲', '去', '唔', '去', '旅行', '啊', '?'],\n",
              " ['你', '老公', '有冇', '平', '機票', '啊', '?']]"
            ]
          },
          "metadata": {
            "tags": []
          },
          "execution_count": 3
        }
      ]
    },
    {
      "cell_type": "markdown",
      "metadata": {
        "id": "GtdqCAWW2cFk"
      },
      "source": [
        "## Distribution of SFPs in HKCanCor\n",
        "\n",
        "First we would like to find out which SFPs are more frequently used. The concept is to extract all instances of SFPs from HKCanCor, and then calculate the frequency of each item."
      ]
    },
    {
      "cell_type": "code",
      "metadata": {
        "id": "gDbS8_Ry2dep",
        "colab": {
          "base_uri": "https://localhost:8080/"
        },
        "outputId": "7aa4b542-66ea-4daf-85cf-bb9e6bd3900a"
      },
      "source": [
        "all_words = corpus1.words()\n",
        "len(all_words)"
      ],
      "execution_count": 4,
      "outputs": [
        {
          "output_type": "execute_result",
          "data": {
            "text/plain": [
              "153654"
            ]
          },
          "metadata": {
            "tags": []
          },
          "execution_count": 4
        }
      ]
    },
    {
      "cell_type": "code",
      "metadata": {
        "id": "y_pI7jnb4BUD",
        "colab": {
          "base_uri": "https://localhost:8080/"
        },
        "outputId": "6751fabf-d137-4e90-ec65-7515be1d80f3"
      },
      "source": [
        "all_sfp = corpus1.search(pos='Y')\n",
        "len(all_sfp)"
      ],
      "execution_count": 5,
      "outputs": [
        {
          "output_type": "execute_result",
          "data": {
            "text/plain": [
              "17542"
            ]
          },
          "metadata": {
            "tags": []
          },
          "execution_count": 5
        }
      ]
    },
    {
      "cell_type": "code",
      "metadata": {
        "id": "2_vkXiKj4Eep",
        "colab": {
          "base_uri": "https://localhost:8080/"
        },
        "outputId": "078ee776-4207-49ba-c273-27c5bea865e8"
      },
      "source": [
        "len(all_sfp)/len(all_words)"
      ],
      "execution_count": 6,
      "outputs": [
        {
          "output_type": "execute_result",
          "data": {
            "text/plain": [
              "0.11416559282543898"
            ]
          },
          "metadata": {
            "tags": []
          },
          "execution_count": 6
        }
      ]
    },
    {
      "cell_type": "code",
      "metadata": {
        "id": "0DaQ2AUs4IGI",
        "colab": {
          "base_uri": "https://localhost:8080/"
        },
        "outputId": "db7fcdb9-d99d-451f-a5d7-0c00d868af94"
      },
      "source": [
        "# This line shows you the first 10 instances of SFP in the dataset.\n",
        "all_sfp[:10]"
      ],
      "execution_count": 7,
      "outputs": [
        {
          "output_type": "execute_result",
          "data": {
            "text/plain": [
              "[Token(word='啊', pos='Y', jyutping='aa3', mor=None, gra=None),\n",
              " Token(word='啊', pos='Y', jyutping='aa3', mor=None, gra=None),\n",
              " Token(word='𡃉', pos='Y', jyutping='gaa3', mor=None, gra=None),\n",
              " Token(word='喎', pos='Y', jyutping='wo3', mor=None, gra=None),\n",
              " Token(word='嗱', pos='Y', jyutping='laa4', mor=None, gra=None),\n",
              " Token(word='𡃉', pos='Y', jyutping='gaa3', mor=None, gra=None),\n",
              " Token(word='喎', pos='Y', jyutping='wo3', mor=None, gra=None),\n",
              " Token(word='咩', pos='Y', jyutping='me1', mor=None, gra=None),\n",
              " Token(word='呢', pos='Y1', jyutping='ne1', mor=None, gra=None),\n",
              " Token(word='喎', pos='Y', jyutping='wo3', mor=None, gra=None)]"
            ]
          },
          "metadata": {
            "tags": []
          },
          "execution_count": 7
        }
      ]
    },
    {
      "cell_type": "markdown",
      "metadata": {
        "id": "YWuKTz-Z4Lp5"
      },
      "source": [
        "## Dictionary\n",
        "\n",
        "Next, we want to create a table that lists out all SFPs in the data, and calculates how many times each SFP appears in the data.\n",
        "\n",
        "Python provides a handy data structure for this exact purpose. In this code snippet, an empty dictionary `fruit_dict` is defined. In the next two lines, two key-value pairs `('apple', 3)` and `('orange', 4)` have been added to `fruit_dict`.\n",
        "```\n",
        "fruit_dict = {}\n",
        "fruit_dict['apple']=3\n",
        "fruit_dict['orange']=4\n",
        "```\n",
        "\n",
        "`fruit_dict['orange']` returns the number of `orange`. Let's say you have bought two more oranges, we can run `fruit_dict['orange'] = fruit_dict['orange'] + 2` to update the value.\n",
        "\n",
        "Let's combine this with a `for` loop to complete how task."
      ]
    },
    {
      "cell_type": "markdown",
      "metadata": {
        "id": "pJYGWvTV_xpf"
      },
      "source": [
        "## Exercise 1\n",
        "\n",
        "The code snippet below creates a dictionary `sfp_dict` and then loops through the SFP list `all_sfp` to obtain SFP frequencies.\n",
        "\n",
        "Can you add three lines to retrieve the frequencies of 咩(me1), 𡃉(gaa3), and 喎(wo3)？"
      ]
    },
    {
      "cell_type": "code",
      "metadata": {
        "colab": {
          "base_uri": "https://localhost:8080/"
        },
        "id": "cZuOzRpo3oSq",
        "outputId": "5f4501fa-a302-440f-fa12-9cbca9168fc0"
      },
      "source": [
        "## Exercise 1 ##\n",
        "\n",
        "# Step 1: Set up a \"Counter\" (which can be thought of as a dictionary with extra functions)\n",
        "import collections\n",
        "sfp_dict = collections.Counter()\n",
        "\n",
        "# Step 2: Loop through all_sfp, and update sfp_dict\n",
        "for sfp in all_sfp:\n",
        "  if sfp.jyutping is None:\n",
        "    continue\n",
        "\n",
        "  # Step 2: Define the key, which takes jyutping as the unique way to \n",
        "  #           refer to an SFP, then add one to the counter.\n",
        "  key = sfp.word + \" \" + sfp.jyutping    \n",
        "  # You can change the representation of the key, e.g.:\n",
        "  # key = f'{sfp.word}({sfp.jyutping}/{sfp.pos})'\n",
        "  sfp_dict[key] += 1\n",
        "\n",
        "# Step 3: Print out the entire dictionary\n",
        "print(sfp_dict)\n",
        "\n",
        "### Add your code after this line ###\n"
      ],
      "execution_count": 8,
      "outputs": [
        {
          "output_type": "stream",
          "text": [
            "Counter({'啊 aa3': 4025, '呢 ne1': 2731, '𡃉 gaa3': 1808, '喇 laa1': 1658, '囖 lo1': 1468, '喎 wo3': 930, '嚹 laa3': 663, '嗎 maa3': 650, '吖 aa1': 617, '嘞 laak3': 426, '呀 aa4': 406, '𠸏 ge2': 361, '咩 me1': 243, '啫 ze1': 242, '𠺢 gaa1': 233, '嘅 ge3': 184, '𠻺 aa6': 168, '咋 zaa3': 136, '唧 zek1': 78, '𠻹 tim1': 71, '㗎 gaa4': 56, '來 lai4': 54, '呃 aak3': 47, '𠺝 gaak3': 34, '嘍 lo3': 32, '啩 gwaa3': 24, '嗱 laa4': 23, '咯 lok3': 23, '呵 ho2': 19, '𠿪 gaa2': 13, '咓 aa5': 11, '𡃓 bo3': 9, '啝 wo4': 9, '話 waa2': 9, '先 sin1': 7, '𡁜 wo5': 6, '喳 zaa4': 5, '吓 haa2': 5, '噉 gam2': 5, '喲 jo3': 4, '啞 aa5': 3, '囉 lo1': 3, '個 go3': 3, '吓 haa5': 2, '𡀔 lu3': 2, '哩 le5': 2, '喂 wai3': 2, '嘛 maa5': 2, '咋 zaa6': 2, '話 waa5': 2, '嘢 je5': 2, '噉樣 gam2joeng2': 2, '𠻗 le4': 2, '話 waa6': 1, '嘩 waa3': 1, '吔 jaa3': 1, 'aa2 aa2': 1, '嘅話 ge3waa2': 1, 'aa5 aa5': 1, '唉 aai5': 1, '嘅. ge3': 1, '咪 mai6': 1, '哩 ni1': 1, '下 haa5': 1, '吓 haa6': 1})\n"
          ],
          "name": "stdout"
        }
      ]
    },
    {
      "cell_type": "markdown",
      "metadata": {
        "id": "2Cr4VNW1PfrC"
      },
      "source": [
        "## Sort the Frequency Table\n",
        "\n",
        "You can use the code snippet below to sort the dictionary."
      ]
    },
    {
      "cell_type": "code",
      "metadata": {
        "colab": {
          "base_uri": "https://localhost:8080/"
        },
        "id": "XFja-IEQE5Lv",
        "outputId": "817f9846-bc69-4111-ad4f-140a62c91fa1"
      },
      "source": [
        "# Print out the SFP frequency table.\n",
        "# To show the full list, remove the number in the brackets.\n",
        "sfp_dict.most_common(10)"
      ],
      "execution_count": 9,
      "outputs": [
        {
          "output_type": "execute_result",
          "data": {
            "text/plain": [
              "[('啊 aa3', 4025),\n",
              " ('呢 ne1', 2731),\n",
              " ('𡃉 gaa3', 1808),\n",
              " ('喇 laa1', 1658),\n",
              " ('囖 lo1', 1468),\n",
              " ('喎 wo3', 930),\n",
              " ('嚹 laa3', 663),\n",
              " ('嗎 maa3', 650),\n",
              " ('吖 aa1', 617),\n",
              " ('嘞 laak3', 426)]"
            ]
          },
          "metadata": {
            "tags": []
          },
          "execution_count": 9
        }
      ]
    },
    {
      "cell_type": "code",
      "metadata": {
        "id": "4aIEYvizWVED",
        "colab": {
          "base_uri": "https://localhost:8080/"
        },
        "outputId": "2a071db7-a6c9-4f49-8a75-c22532add3ce"
      },
      "source": [
        "# Install packages for making plots.\n",
        "!pip install matplotlib pandas"
      ],
      "execution_count": 10,
      "outputs": [
        {
          "output_type": "stream",
          "text": [
            "Requirement already satisfied: matplotlib in /usr/local/lib/python3.7/dist-packages (3.2.2)\n",
            "Requirement already satisfied: pandas in /usr/local/lib/python3.7/dist-packages (1.1.5)\n",
            "Requirement already satisfied: python-dateutil>=2.1 in /usr/local/lib/python3.7/dist-packages (from matplotlib) (2.8.1)\n",
            "Requirement already satisfied: pyparsing!=2.0.4,!=2.1.2,!=2.1.6,>=2.0.1 in /usr/local/lib/python3.7/dist-packages (from matplotlib) (2.4.7)\n",
            "Requirement already satisfied: cycler>=0.10 in /usr/local/lib/python3.7/dist-packages (from matplotlib) (0.10.0)\n",
            "Requirement already satisfied: kiwisolver>=1.0.1 in /usr/local/lib/python3.7/dist-packages (from matplotlib) (1.3.1)\n",
            "Requirement already satisfied: numpy>=1.11 in /usr/local/lib/python3.7/dist-packages (from matplotlib) (1.19.5)\n",
            "Requirement already satisfied: pytz>=2017.2 in /usr/local/lib/python3.7/dist-packages (from pandas) (2018.9)\n",
            "Requirement already satisfied: six>=1.5 in /usr/local/lib/python3.7/dist-packages (from python-dateutil>=2.1->matplotlib) (1.15.0)\n"
          ],
          "name": "stdout"
        }
      ]
    },
    {
      "cell_type": "code",
      "metadata": {
        "colab": {
          "base_uri": "https://localhost:8080/"
        },
        "id": "jK3PsGPeUb5g",
        "collapsed": true,
        "outputId": "f1e4521d-c39e-4574-805d-bfd301a7539e"
      },
      "source": [
        "# Install fonts\n",
        "\n",
        "! apt-get install -y fonts-noto-cjk\n",
        "import matplotlib.font_manager as fm\n",
        "for fontpath in fm.findSystemFonts(['/usr/share/fonts/opentype/noto/']):\n",
        "    fm.fontManager.addfont(fontpath)"
      ],
      "execution_count": 11,
      "outputs": [
        {
          "output_type": "stream",
          "text": [
            "Reading package lists... Done\n",
            "Building dependency tree       \n",
            "Reading state information... Done\n",
            "The following package was automatically installed and is no longer required:\n",
            "  libnvidia-common-460\n",
            "Use 'apt autoremove' to remove it.\n",
            "Suggested packages:\n",
            "  fonts-noto-cjk-extra\n",
            "The following NEW packages will be installed:\n",
            "  fonts-noto-cjk\n",
            "0 upgraded, 1 newly installed, 0 to remove and 34 not upgraded.\n",
            "Need to get 55.7 MB of archives.\n",
            "After this operation, 92.0 MB of additional disk space will be used.\n",
            "Get:1 http://archive.ubuntu.com/ubuntu bionic-updates/main amd64 fonts-noto-cjk all 1:20190409+repack1-0ubuntu0.18.04 [55.7 MB]\n",
            "Fetched 55.7 MB in 3s (20.8 MB/s)\n",
            "Selecting previously unselected package fonts-noto-cjk.\n",
            "(Reading database ... 160706 files and directories currently installed.)\n",
            "Preparing to unpack .../fonts-noto-cjk_1%3a20190409+repack1-0ubuntu0.18.04_all.deb ...\n",
            "Unpacking fonts-noto-cjk (1:20190409+repack1-0ubuntu0.18.04) ...\n",
            "Setting up fonts-noto-cjk (1:20190409+repack1-0ubuntu0.18.04) ...\n",
            "Processing triggers for fontconfig (2.12.6-0ubuntu2) ...\n"
          ],
          "name": "stdout"
        }
      ]
    },
    {
      "cell_type": "code",
      "metadata": {
        "colab": {
          "base_uri": "https://localhost:8080/",
          "height": 484
        },
        "id": "3_ZEhfMKWWam",
        "outputId": "0ed230ad-fe36-440f-93e1-83d03b38585b"
      },
      "source": [
        "import matplotlib.pyplot as plt\n",
        "import pandas as pd\n",
        "\n",
        "plt.rcParams[\"figure.figsize\"] = (12, 6)\n",
        "plt.rcParams[\"font.size\"] = 20\n",
        "plt.rcParams['font.family']='Noto Sans CJK JP'\n",
        "\n",
        "df = pd.DataFrame({'freq':sfp_dict}).sort_values(by=['freq'], ascending=False)\n",
        "df[df.freq > 50].plot(kind='bar')\n",
        "plt.xlabel(\"SFP\")\n",
        "plt.ylabel(\"Freq\")\n",
        "plt.xticks(rotation=45)\n",
        "plt.title(\"SFP Frequency Count in HKCanCor\")\n",
        "plt.show()"
      ],
      "execution_count": 12,
      "outputs": [
        {
          "output_type": "display_data",
          "data": {
            "image/png": "[encoded data removed]",
            "text/plain": [
              "<Figure size 864x432 with 1 Axes>"
            ]
          },
          "metadata": {
            "tags": [],
            "needs_background": "light"
          }
        }
      ]
    },
    {
      "cell_type": "code",
      "metadata": {
        "id": "sxUIU0WoY-hR"
      },
      "source": [],
      "execution_count": 12,
      "outputs": []
    },
    {
      "cell_type": "code",
      "metadata": {
        "id": "ElbKWUfAXQrm"
      },
      "source": [],
      "execution_count": 12,
      "outputs": []
    },
    {
      "cell_type": "markdown",
      "metadata": {
        "id": "q8Oyz5nj_QWT"
      },
      "source": [
        "## Exercise 2\n",
        "\n",
        "Cantonese SFPs come in different tones. Here are some examples.\n",
        "\n",
        "(Structure: 3.SG - Adverb/Modal - not here - SFP)\n",
        "- 佢 肯定(certainly) 唔喺度 **啦 (laa1)**！\n",
        "- 佢 應該(should be) 唔喺度 **𠿪 (gaa2)**？\n",
        "- 佢 好似(seems) 唔喺度 **喎 (wo3)**。\n",
        "- 佢 居然(unexpectedly) 唔喺度 **啝 (wo4)**？\n",
        "- 佢 聽講(heard) 唔喺度 **𡁜 (wo5)**～\n",
        "\n",
        "Which tones are more frequently used?"
      ]
    },
    {
      "cell_type": "code",
      "metadata": {
        "colab": {
          "base_uri": "https://localhost:8080/"
        },
        "id": "zzU1o_LR_FQt",
        "outputId": "cb38c5db-28c3-4a42-ae22-b66af9d1c1c6"
      },
      "source": [
        "## Exercise 2\n",
        "\n",
        "# Step 1: Set up a dictionary\n",
        "sfp_dict_tone = collections.Counter()\n",
        "for t in range(6): sfp_dict_tone[f'Tone {t+1}'] = 0\n",
        "\n",
        "# Step 2: Loop through all_sfp, and update sfp_dict\n",
        "for sfp in all_sfp:\n",
        "  \n",
        "  # Step 2.1: Remove bad jyutping\n",
        "  if sfp.jyutping is None:\n",
        "    continue\n",
        "\n",
        "  # Step 2.2: Define the key, which takes jyutping as the unique way to \n",
        "  #           refer to an SFP\n",
        "\n",
        "  ### Change this line below, so that the last character of the string will be \n",
        "  ### used as the key. \n",
        "  key = 'Tone ' + 'Tone Number of the SFP in question'\n",
        "  sfp_dict_tone[key] += 1\n",
        "\n",
        "# Step 3: Print out Tone collection\n",
        "sfp_dict_tone.most_common()"
      ],
      "execution_count": 21,
      "outputs": [
        {
          "output_type": "execute_result",
          "data": {
            "text/plain": [
              "[('Tone 3', 9005),\n",
              " ('Tone 1', 7352),\n",
              " ('Tone 4', 555),\n",
              " ('Tone 2', 416),\n",
              " ('Tone 6', 173),\n",
              " ('Tone 5', 33)]"
            ]
          },
          "metadata": {
            "tags": []
          },
          "execution_count": 21
        }
      ]
    },
    {
      "cell_type": "markdown",
      "metadata": {
        "id": "XUfPZuwZ12lJ"
      },
      "source": [
        "## Exercise 2+ (Optional)\n",
        "We can also extract a frequency list of SFPs by rhymes.\n",
        "See the documentation for jyutping related functions [here](https://pycantonese.org/jyutping.html)."
      ]
    },
    {
      "cell_type": "code",
      "metadata": {
        "id": "OpZBF60P1i3_"
      },
      "source": [
        "## Exercise 2+\n",
        "\n",
        "# Step 1: Set up a dictionary\n",
        "sfp_dict_rhyme = collections.Counter()\n",
        "for sfp in all_sfp:\n",
        "  \n",
        "  # Step 2.1: Remove bad jyutping\n",
        "  if sfp.jyutping is None:\n",
        "    continue\n",
        "\n",
        "  # Step 2.2 Parse Jyutping\n",
        "  parsed_jp = pycantonese.parse_jyutping(sfp.jyutping)\n",
        "  if len(parsed_jp) > 1:\n",
        "    continue\n",
        "\n",
        "  # Step 2.3: Define the key, which takes jyutping as the unique way to \n",
        "  #           refer to an SFP\n",
        "\n",
        "  ## Change this line below ##\n",
        "  key = 'The rhyme'\n",
        "\n",
        "  sfp_dict_rhyme[key] += 1\n",
        "\n",
        "# Step 3: Print out Tone collection\n",
        "sfp_dict_rhyme.most_common()"
      ],
      "execution_count": null,
      "outputs": []
    },
    {
      "cell_type": "markdown",
      "metadata": {
        "id": "5FI9vfrpE5Qt"
      },
      "source": [
        "# Barchart\n",
        "\n",
        "You can create a bar chart that shows the Frequency count by tones.\n",
        "We are using the same libraries as above, i.e. matplotlib and pandas."
      ]
    },
    {
      "cell_type": "code",
      "metadata": {
        "colab": {
          "base_uri": "https://localhost:8080/",
          "height": 483
        },
        "id": "jaR15r8OclFt",
        "outputId": "4799883a-b44a-49c9-981a-6831dbfd8ad4"
      },
      "source": [
        "import matplotlib.pyplot as plt\n",
        "import pandas as pd\n",
        "\n",
        "plt.rcParams[\"figure.figsize\"] = (12, 6)\n",
        "plt.rcParams[\"font.size\"] = 22\n",
        "\n",
        "df2 = pd.DataFrame({'tone':sfp_dict_tone})\n",
        "plt.xlabel(\"SFP Tone\")\n",
        "plt.ylabel(\"Freq\")\n",
        "plt.xticks(rotation=45)\n",
        "plt.title(\"SFP Frequency Count in HKCanCor (by tones)\")\n",
        "plt.bar(sfp_dict_tone.keys(), sfp_dict_tone.values(), color=['blue','red','blue','red','red','red'])\n",
        "# # To display the tones sequentially instead\n",
        "# sorted_sfp_dict_tone = sorted(sfp_dict_tone.items())\n",
        "# plt.bar([x for x,y in sorted_sfp_dict_tone], [y for x,y in sorted_sfp_dict_tone], color=['blue','red','blue','red','red','red'])\n",
        "plt.show()"
      ],
      "execution_count": 29,
      "outputs": [
        {
          "output_type": "display_data",
          "data": {
            "image/png": "[encoded data removed]",
            "text/plain": [
              "<Figure size 864x432 with 1 Axes>"
            ]
          },
          "metadata": {
            "tags": [],
            "needs_background": "light"
          }
        }
      ]
    },
    {
      "cell_type": "markdown",
      "metadata": {
        "id": "3qTDxHncHfZN"
      },
      "source": [
        "## Exercise 3\n",
        "\n",
        "We can use the corpus to look at SFP examples. Let's extract all utterances with a Tone 5 SFP.\n",
        "\n",
        "Recall that we can use `corpus1.search(by_utterances=True)` to extract all utterances from `corpus1`. We can add more parameters to the search function, so that only utterance that contains a word with a particular POS / Tone will be extracted.\n",
        "\n",
        "See [this page](https://pycantonese.org/searches.html) for a full description.\n",
        "\n",
        "Also add lines to print out these utterances in a nicer format, with or without Jyutping.\n",
        "\n",
        "* *Without Jyutping*\n",
        "```\n",
        "0: 𠻺 吓 , 𠻺 吓 .\n",
        "1: 𠻺 吓 , 𠻺 吓 .\n",
        "2: 乜嘢 撕裂 𡁜 , 中文 叫做 .\n",
        "3: 唔係 咓 .\n",
        "4: 五千幾 蚊 包 - 佢 話 最 低 , 唔係 , 唔係 , 五千幾 囖 起 𡁜 .\n",
        "...\n",
        "```\n",
        "\n",
        "* *With Jyutping*\n",
        "```\n",
        "0: 𠻺(aa6) 吓(haa5) ,(None) 𠻺(aa6) 吓(haa5) .(None)\n",
        "1: 𠻺(aa6) 吓(haa5) ,(None) 𠻺(aa6) 吓(haa5) .(None)\n",
        "2: 乜嘢(mat1je5) 撕裂(si1lit6) 𡁜(wo5) ,(None) 中文(zung1man2) 叫做(giu3zou6) .(None)\n",
        "3: 唔係(m4hai6) 咓(aa5) .(None)\n",
        "```"
      ]
    },
    {
      "cell_type": "code",
      "metadata": {
        "colab": {
          "base_uri": "https://localhost:8080/"
        },
        "id": "fpPIM55FHdT9",
        "outputId": "9a2e8e29-de0b-46f3-a072-ca3ef19af675"
      },
      "source": [
        "## Exercise 3\n",
        "\n",
        "utterances_t5sfp = [] ### Change this line \n",
        "\n",
        "# Find out how many occurences there are.\n",
        "print(len(utterances_t5sfp))\n",
        "\n",
        "# Solution: Without Jyutping\n",
        "for i, utt in enumerate(utterances_t5sfp):\n",
        "  print (f'{i}: ' + ' '.join([f'{t.word}' for t in utt]))\n",
        "\n",
        "# Solution: With Jyutping\n",
        "for i, utt in enumerate(utterances_t5sfp):\n",
        "  print (f'{i}: ' + ' '.join([f'{t.word}({t.jyutping})' for t in utt]))"
      ],
      "execution_count": 32,
      "outputs": [
        {
          "output_type": "stream",
          "text": [
            "33\n",
            "0: 𠻺 吓 , 𠻺 吓 .\n",
            "1: 𠻺 吓 , 𠻺 吓 .\n",
            "2: 乜嘢 撕裂 𡁜 , 中文 叫做 .\n",
            "3: 唔係 咓 .\n",
            "4: 五千幾 蚊 包 - 佢 話 最 低 , 唔係 , 唔係 , 五千幾 囖 起 𡁜 .\n",
            "5: 我 就 覺得 佢 好 - 好 奇怪 囖 , 寫 \" 起 \" 𡁜 .\n",
            "6: 你 , 唔係 噉 講嘢 啞 ?\n",
            "7: 冇嘢 啞 ?\n",
            "8: 你 唔係 見 到 有 人 喺 街 𠝹手 咁 邪 啞 ?\n",
            "9: 十七 號 咪 McManaman 咓 ?\n",
            "10: 佢哋 總 有 啲 辦法 咓 - 即係 成 個 國家 一 張 飛 都 攞 唔 到 .\n",
            "11: 嗰陣時 係 嗰啲 魚 舖 仔 幾 缸 魚 𡃉 啫 嗎 , 咓 .\n",
            "12: 奇妙 哩 .\n",
            "13: 扮蟹 咓 .\n",
            "14: 唔係 𠻺 嘛 , 你 都 唔 - 應該 唔係 年紀 好 大 嘅 啫 照計 .\n",
            "15: \" Miss 我 隻 手 真係 唔 得 𡃉 哩 .\n",
            "16: 即係 大家 都 係 喺度 𠻺 揾 唔 到 嘢 寫 , 亂 咁 aa5 寫 大 ○ 呢 .\n",
            "17: 冇 嘢 講 咋 話 ?\n",
            "18: 得 一 條 𡃉 咋 話 ?\n",
            "19: 噉 我 收 道歉 信 嗰陣時 又 覺得 誒 , \" 唉 - 算 喇 .\n",
            "20: 北控 咓 , 失控 .\n",
            "21: 好 嘢 , 夠 鐘 .\n",
            "22: 唔係 係 嘛 ?\n",
            "23: 嘩 ! 唔係 咓 ?\n",
            "24: 噉 然之後 啊 , 佢 打 返去 Council 呢 , 跟住 同 - 同 陳生 佢哋 講 呢 , 跟住 話 我哋 兩 個 靚妹 𡁜 , 佢 話 揾 個 揾 啲 大 啲 嘅 來 𡁜 .\n",
            "25: 噉 然之後 啊 , 佢 打 返去 Council 呢 , 跟住 同 - 同 陳生 佢哋 講 呢 , 跟住 話 我哋 兩 個 靚妹 𡁜 , 佢 話 揾 個 揾 啲 大 啲 嘅 來 𡁜 .\n",
            "26: 佢 話 讀 pharmacy 𡁜 .\n",
            "27: 噉 呢 佢 就 同 我 講 叫 我 - 佢 就 建議 我 剝 咗 去 , 噉 跟住 呢 , 褸尾 我 問 返 啲 同學 囖 , 佢 話 \" 唔使 四 隻 一齊 剝 晒 咓 \" , 跟住 我 都 覺得 , 係 喇 , 使 唔使 四 隻 一齊 剝 晒 啊 ?\n",
            "28: 哦 , 你 嗰 班 噉 計 咓 .\n",
            "29: 唔係 要 我 同 佢 慶祝 咓 ?\n",
            "30: 佢 冇 捉 埋 嘉樂仔 入去 睇 咓 ?\n",
            "31: 我 真係 信 有 人 啊 , 剁 出來 𠺢 嗎 嗰 舊 嘢 .\n",
            "32: 嗱 , 哩啲 好 - 好 孔子 下 𡃉 .\n",
            "0: 𠻺(aa6) 吓(haa5) ,(None) 𠻺(aa6) 吓(haa5) .(None)\n",
            "1: 𠻺(aa6) 吓(haa5) ,(None) 𠻺(aa6) 吓(haa5) .(None)\n",
            "2: 乜嘢(mat1je5) 撕裂(si1lit6) 𡁜(wo5) ,(None) 中文(zung1man2) 叫做(giu3zou6) .(None)\n",
            "3: 唔係(m4hai6) 咓(aa5) .(None)\n",
            "4: 五千幾(ng5cin1gei2) 蚊(man1) 包(baau1) -(None) 佢(keoi5) 話(waa6) 最(zeoi3) 低(dai1) ,(None) 唔係(m4hai6) ,(None) 唔係(m4hai6) ,(None) 五千幾(ng5cin1gei2) 囖(lo1) 起(hei2) 𡁜(wo5) .(None)\n",
            "5: 我(ngo5) 就(zau6) 覺得(gok3dak1) 佢(keoi5) 好(hou2) -(None) 好(hou2) 奇怪(kei4gwaai3) 囖(lo1) ,(None) 寫(se2) \"(None) 起(hei2) \"(None) 𡁜(wo5) .(None)\n",
            "6: 你(nei5) ,(None) 唔係(m4hai6) 噉(gam2) 講嘢(gong2je5) 啞(aa5) ?(None)\n",
            "7: 冇嘢(mou5je5) 啞(aa5) ?(None)\n",
            "8: 你(nei5) 唔係(m4hai6) 見(gin3) 到(dou2) 有(jau5) 人(jan4) 喺(hai2) 街(gaai1) 𠝹手(gaai3sau2) 咁(gam3) 邪(ce4) 啞(aa5) ?(None)\n",
            "9: 十七(sap6cat1) 號(hou6) 咪(mai6) McManaman(None) 咓(aa5) ?(None)\n",
            "10: 佢哋(keoi5dei6) 總(zung2) 有(jau5) 啲(di1) 辦法(baan6faat3) 咓(aa5) -(None) 即係(zik1hai6) 成(sing4) 個(go3) 國家(gwok3gaa1) 一(jat1) 張(zoeng1) 飛(fei1) 都(dou1) 攞(lo2) 唔(m4) 到(dou2) .(None)\n",
            "11: 嗰陣時(go2zan6si4) 係(hai6) 嗰啲(go2di1) 魚(jyu2) 舖(pou2) 仔(zai2) 幾(gei2) 缸(gong1) 魚(jyu2) 𡃉(gaa3) 啫(ze1) 嗎(maa3) ,(None) 咓(aa5) .(None)\n",
            "12: 奇妙(kei4miu6) 哩(le5) .(None)\n",
            "13: 扮蟹(baan6haai5) 咓(aa5) .(None)\n",
            "14: 唔係(m4hai6) 𠻺(aa6) 嘛(maa5) ,(None) 你(nei5) 都(dou1) 唔(m4) -(None) 應該(jing1goi1) 唔係(m4hai6) 年紀(nin4gei2) 好(hou2) 大(daai6) 嘅(ge3) 啫(ze1) 照計(ziu3gai3) .(None)\n",
            "15: \"(None) Miss(None) 我(ngo5) 隻(zek3) 手(sau2) 真係(zan1hai6) 唔(m4) 得(dak1) 𡃉(gaa3) 哩(le5) .(None)\n",
            "16: 即係(zik1hai6) 大家(daai6gaa1) 都(dou1) 係(hai6) 喺度(hai2dou6) 𠻺(aa6) 揾(wan2) 唔(m4) 到(dou2) 嘢(je5) 寫(se2) ,(None) 亂(lyun6) 咁(gam3) aa5(aa5) 寫(se2) 大(daai6) ○(None) 呢(ne1) .(None)\n",
            "17: 冇(mou5) 嘢(je5) 講(gong2) 咋(zaa6) 話(waa5) ?(None)\n",
            "18: 得(dak1) 一(jat1) 條(tiu4) 𡃉(gaa3) 咋(zaa6) 話(waa5) ?(None)\n",
            "19: 噉(gam2) 我(ngo5) 收(sau1) 道歉(dou6hip3) 信(seon3) 嗰陣時(go2zan6si4) 又(jau6) 覺得(gok3dak1) 誒(e6) ,(None) \"(None) 唉(aai5) -(None) 算(syun3) 喇(laa1) .(None)\n",
            "20: 北控(bak1hung3) 咓(aa5) ,(None) 失控(sat1hung3) .(None)\n",
            "21: 好(hou2) 嘢(je5) ,(None) 夠(gau3) 鐘(zung1) .(None)\n",
            "22: 唔係(m4hai6) 係(hai6) 嘛(maa5) ?(None)\n",
            "23: 嘩(waa3) !(None) 唔係(m4hai6) 咓(aa5) ?(None)\n",
            "24: 噉(gam2) 然之後(jin4zi1hau6) 啊(aa3) ,(None) 佢(keoi5) 打(daa2) 返去(faan1heoi3) Council(None) 呢(ne1) ,(None) 跟住(gan1zyu6) 同(tung4) -(None) 同(tung4) 陳生(can4saang1) 佢哋(keoi5dei6) 講(gong2) 呢(ne1) ,(None) 跟住(gan1zyu6) 話(waa6) 我哋(ngo5dei6) 兩(loeng5) 個(go3) 靚妹(leng1mui1) 𡁜(wo5) ,(None) 佢(keoi5) 話(waa6) 揾(wan2) 個(go3) 揾(wan2) 啲(di1) 大(daai6) 啲(di1) 嘅(ge3) 來(lai4) 𡁜(wo5) .(None)\n",
            "25: 噉(gam2) 然之後(jin4zi1hau6) 啊(aa3) ,(None) 佢(keoi5) 打(daa2) 返去(faan1heoi3) Council(None) 呢(ne1) ,(None) 跟住(gan1zyu6) 同(tung4) -(None) 同(tung4) 陳生(can4saang1) 佢哋(keoi5dei6) 講(gong2) 呢(ne1) ,(None) 跟住(gan1zyu6) 話(waa6) 我哋(ngo5dei6) 兩(loeng5) 個(go3) 靚妹(leng1mui1) 𡁜(wo5) ,(None) 佢(keoi5) 話(waa6) 揾(wan2) 個(go3) 揾(wan2) 啲(di1) 大(daai6) 啲(di1) 嘅(ge3) 來(lai4) 𡁜(wo5) .(None)\n",
            "26: 佢(keoi5) 話(waa6) 讀(duk6) pharmacy(None) 𡁜(wo5) .(None)\n",
            "27: 噉(gam2) 呢(ne1) 佢(keoi5) 就(zau6) 同(tung4) 我(ngo5) 講(gong2) 叫(giu3) 我(ngo5) -(None) 佢(keoi5) 就(zau6) 建議(gin3ji5) 我(ngo5) 剝(mok1) 咗(zo2) 去(heoi3) ,(None) 噉(gam2) 跟住(gan1zyu6) 呢(ne1) ,(None) 褸尾(lau1mei1) 我(ngo5) 問(man6) 返(faan1) 啲(di1) 同學(tung4hok6) 囖(lo1) ,(None) 佢(keoi5) 話(waa6) \"(None) 唔使(m4sai2) 四(sei3) 隻(zek3) 一齊(jat1cai4) 剝(mok1) 晒(saai3) 咓(aa5) \"(None) ,(None) 跟住(gan1zyu6) 我(ngo5) 都(dou1) 覺得(gok3dak1) ,(None) 係(hai6) 喇(laa1) ,(None) 使(sai2) 唔使(m4sai2) 四(sei3) 隻(zek3) 一齊(jat1cai4) 剝(mok1) 晒(saai3) 啊(aa3) ?(None)\n",
            "28: 哦(o5) ,(None) 你(nei5) 嗰(go2) 班(baan1) 噉(gam2) 計(gai3) 咓(aa5) .(None)\n",
            "29: 唔係(m4hai6) 要(jiu3) 我(ngo5) 同(tung4) 佢(keoi5) 慶祝(hing3zuk1) 咓(aa5) ?(None)\n",
            "30: 佢(keoi5) 冇(mou5) 捉(zuk1) 埋(maai4) 嘉樂仔(gaa1lok6zai2) 入去(jap6heoi3) 睇(tai2) 咓(aa5) ?(None)\n",
            "31: 我(ngo5) 真係(zan1hai6) 信(seon3) 有(jau5) 人(jan4) 啊(aa3) ,(None) 剁(do2) 出來(ceot1lai4) 𠺢(gaa1) 嗎(maa3) 嗰(go2) 舊(gau6) 嘢(je5) .(None)\n",
            "32: 嗱(laa4) ,(None) 哩啲(ni1di1) 好(hou2) -(None) 好(hou2) 孔子(hung2zi2) 下(haa5) 𡃉(gaa3) .(None)\n"
          ],
          "name": "stdout"
        }
      ]
    },
    {
      "cell_type": "markdown",
      "metadata": {
        "id": "jJohd0jH3ZlH"
      },
      "source": [
        "## Exercise 4\n",
        "\n",
        "Now you want to restrict the utterances to those that are longer than 6 but under 15 tokens, that contain Tone 4 SFPs. Write a code snippet, and download the result as a text file.\n",
        "\n",
        "The file will be available in the file menu on the left of the colab interface."
      ]
    },
    {
      "cell_type": "code",
      "metadata": {
        "id": "af5kKoaiFPDn"
      },
      "source": [
        "## Exercise 4 ##\n",
        "\n",
        "utt_tone4_sfp = corpus1.search(by_utterances=True) ### Fix this line\n",
        "\n",
        "# Solution:\n",
        "\n",
        "with open('length_6_to_15_tone4.txt', 'w') as writefile:\n",
        "  ### Change the for loop to print the utterances to the file\n",
        "  for utt in utt_tone4_sfp:\n",
        "    ### Change True to an appropriate token length check\n",
        "    if True: \n",
        "      ### Change the part after the equal sign to a better format if needed.\n",
        "      the_line = str(utt)\n",
        "      # print(''.join([t.word for t in utt])) # Use print statement to check\n",
        "      \n",
        "      # Write the line to the file\n",
        "      writefile.write(the_line) \n"
      ],
      "execution_count": null,
      "outputs": []
    },
    {
      "cell_type": "code",
      "metadata": {
        "id": "PhkF_BKeb-Kn"
      },
      "source": [
        "# To download the file we just created\n",
        "\n",
        "from google.colab import files\n",
        "files.download(\"/length_6_to_15_tone4.txt\")"
      ],
      "execution_count": null,
      "outputs": []
    },
    {
      "cell_type": "markdown",
      "metadata": {
        "id": "VJW7WhCVFb-n"
      },
      "source": [
        "## Exercise 5 (SFP research ideas)\n",
        "\n",
        "### e.g. Finding co-occuring adverbial and SFP pairs\n",
        "\n",
        "#### Problem description\n",
        "Adverbials and SFPs express similar meaning, and it has been proposed that adverbials and SFPs form a discontinuous structure. Can we programmatically extract all \"adverbial-sfp\" pairs?\n",
        "\n",
        "#### Programmatic solution\n",
        "- Let's assume that all adverbials have the part-of-speech tag 'D' or 'C', and all SFP has the pos 'Y'. \n",
        "- To reduce the problem, we will only extract Tone 5 SFPs. We can then obtain a frequency table of (Adv, Sfp). \n",
        "\n",
        "#### Data Visualisation\n",
        "- This frequency table can then be sorted in the reverse order.\n",
        "- The pattern can also be displayed using a heatmap."
      ]
    }
  ]
}